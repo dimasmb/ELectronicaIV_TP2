{
 "cells": [
  {
   "cell_type": "markdown",
   "metadata": {},
   "source": [
    "# TP Flyback"
   ]
  },
  {
   "cell_type": "code",
   "execution_count": 121,
   "metadata": {},
   "outputs": [
    {
     "name": "stdout",
     "output_type": "stream",
     "text": [
      "Nmin = 29.077491086124684 ;\t Nmax = 56.42250891387532\n"
     ]
    }
   ],
   "source": [
    "Vd=300\n",
    "Vo2=5\n",
    "Vo3=16\n",
    "\n",
    "AL=4000e-9\n",
    "Amin=136.8e-6 #en m^2\n",
    "Ae=153e-6 #en m^2\n",
    "\n",
    "# Miguelímetro\n",
    "D=0.35\n",
    "Fs=100e3\n",
    "Bmax=0.2\n",
    "\n",
    "Idc=0.08\n",
    "\n",
    "# import complex math module  \n",
    "import cmath  \n",
    "a =  Idc*AL/Amin\n",
    "b = -Bmax\n",
    "c = (Vd*D)/(2*Fs*Amin)\n",
    "  \n",
    "# calculate the discriminant  \n",
    "d = (b**2) - (4*a*c)  \n",
    "\n",
    "Nmin = (-b-cmath.sqrt(d))/(2*a)  \n",
    "Nmax = (-b+cmath.sqrt(d))/(2*a)  \n",
    "\n",
    "if(d<0):\n",
    "    print('No hay solucion a la cuadratica')\n",
    "else:\n",
    "# find two solutions  \n",
    "    print('Nmin = {0} ;\\t Nmax = {1}'.format(Nmin.real,Nmax.real))\n"
   ]
  },
  {
   "cell_type": "markdown",
   "metadata": {},
   "source": [
    "Relación de vueltas"
   ]
  },
  {
   "cell_type": "code",
   "execution_count": 128,
   "metadata": {},
   "outputs": [
    {
     "name": "stdout",
     "output_type": "stream",
     "text": [
      " Vd  Vo2  Vo3 |  N1 |  N2_norm |  N3_norm |  Vo2_norm  Vo3_norm\n",
      "300    5   16 |  30 |    1.000 |    3.000 |     5.385    16.154\n",
      "300    5   16 |  31 |    1.000 |    3.000 |     5.211    15.633\n",
      "300    5   16 |  32 |    1.000 |    3.000 |     5.048    15.144\n",
      "300    5   16 |  33 |    1.000 |    3.000 |     4.895    14.685\n",
      "300    5   16 |  34 |    1.000 |    3.000 |     4.751    14.253\n",
      "300    5   16 |  35 |    1.000 |    3.000 |     4.615    13.846\n",
      "300    5   16 |  36 |    1.000 |    4.000 |     4.487    17.949\n",
      "300    5   16 |  37 |    1.000 |    4.000 |     4.366    17.464\n",
      "300    5   16 |  38 |    1.000 |    4.000 |     4.251    17.004\n",
      "300    5   16 |  39 |    1.000 |    4.000 |     4.142    16.568\n",
      "300    5   16 |  40 |    1.000 |    4.000 |     4.038    16.154\n",
      "300    5   16 |  41 |    1.000 |    4.000 |     3.940    15.760\n",
      "300    5   16 |  42 |    1.000 |    4.000 |     3.846    15.385\n",
      "300    5   16 |  43 |    1.000 |    4.000 |     3.757    15.027\n",
      "300    5   16 |  44 |    1.000 |    4.000 |     3.671    14.685\n",
      "300    5   16 |  45 |    1.000 |    4.000 |     3.590    14.359\n",
      "300    5   16 |  46 |    1.000 |    5.000 |     3.512    17.559\n",
      "300    5   16 |  47 |    1.000 |    5.000 |     3.437    17.185\n",
      "300    5   16 |  48 |    1.000 |    5.000 |     3.365    16.827\n",
      "300    5   16 |  49 |    2.000 |    5.000 |     6.593    16.484\n",
      "300    5   16 |  50 |    2.000 |    5.000 |     6.462    16.154\n",
      "300    5   16 |  51 |    2.000 |    5.000 |     6.335    15.837\n",
      "300    5   16 |  52 |    2.000 |    5.000 |     6.213    15.533\n",
      "300    5   16 |  53 |    2.000 |    5.000 |     6.096    15.239\n",
      "300    5   16 |  54 |    2.000 |    5.000 |     5.983    14.957\n",
      "300    5   16 |  55 |    2.000 |    5.000 |     5.874    14.685\n"
     ]
    }
   ],
   "source": [
    "import pandas as pd\n",
    "import numpy as np\n",
    "\n",
    "# Al = 4000E-9\n",
    "# Vd = 300\n",
    "# Vo2 = 5\n",
    "# Vo3 = 16\n",
    "D_mean = D\n",
    "\n",
    "def save_turns(Vd, Vo2, Vo3, D_mean, N1, Al, dataframe):\n",
    "    N2 = N1*(Vo2/Vd)*(1-D_mean)/(D_mean)\n",
    "    N3 = N1*Vo3/Vd*(1-D_mean)/(D_mean)\n",
    "\n",
    "    N2_norm = np.round(N2)\n",
    "    N3_norm = np.round(N3)\n",
    "\n",
    "    Vo2_norm = Vd*(N2_norm/N1)*(D_mean/(1-D_mean))\n",
    "    Vo3_norm = Vd*(N3_norm/N1)*(D_mean/(1-D_mean))\n",
    "    # add row to the DataFrame\n",
    "    # dataframe.loc[len(dataframe)] = [Vd, Vo2, Vo3, '|', N1, L1*1E3, N2, L2*1E3, N3, L3*1E3, '-->', N2_norm, L2_norm*1E3, '|', N3_norm, L3_norm*1E3, '|', Vo2_norm, Vo3_norm]\n",
    "    dataframe.loc[len(dataframe)] = [Vd, Vo2, Vo3, '|', N1, '|', N2_norm, '|', N3_norm, '|', Vo2_norm, Vo3_norm]\n",
    "    return dataframe\n",
    "\n",
    "\n",
    "# create an empty DataFrame\n",
    "# df = pd.DataFrame(columns=['Vd', 'Vo2', 'Vo3', '|', 'N1', 'L1[mHy]', 'N2', 'L2[mHy]', 'N3', 'L3[mHy]', 'Normalizamos...', 'N2_norm', 'L2_norm[mHy]', '|', 'N3_norm', 'L3_norm[mHy]', '|', 'Vo2_norm', 'Vo3_norm'])\n",
    "df = pd.DataFrame(columns=['Vd', 'Vo2', 'Vo3', '|', 'N1', '|', 'N2_norm', '|', 'N3_norm', '|', 'Vo2_norm', 'Vo3_norm'])\n",
    "\n",
    "# add some rows to the DataFrame\n",
    "\n",
    "# create an XML file from the DataFrame\n",
    "for N1 in range(round(Nmin.real)+1, round(Nmax.real), 1):\n",
    "    df = save_turns(Vd, Vo2, Vo3, 0.35, N1, Al, df)\n",
    "\n",
    "print(df.to_string(index=False, max_colwidth=20, float_format='%.3f'))"
   ]
  },
  {
   "cell_type": "code",
   "execution_count": 131,
   "metadata": {},
   "outputs": [
    {
     "name": "stdout",
     "output_type": "stream",
     "text": [
      "Relación de vueltas entre N1 y N2 = 32\n",
      "Relación de vueltas entre N1 y N3 = 10\n",
      "N1 = 32 ;\t N2 = 1 ;\t N3 = 3\n",
      "Corriente en los bobinados del transformador:\n",
      "\tI1 = 0.08A ;\t I2 = 1.664A ;\t I3 = 0.555A\n",
      "Corriente a las salidas de las flyback\n",
      "\tIo2 = 1.664A ;\t Io3 = 0.555A\n",
      "B = 194.783mH\n"
     ]
    }
   ],
   "source": [
    "N1_N2=round((Vd/Vo2)*D/(1-D))\n",
    "print(\"Relación de vueltas entre N1 y N2 = \" + str(N1_N2))\n",
    "\n",
    "N1_N3=round((Vd/Vo3)*D/(1-D))\n",
    "print(\"Relación de vueltas entre N1 y N3 = \" + str(N1_N3))\n",
    "\n",
    "N1=32\n",
    "N2=round(N1/N1_N2)\n",
    "N3=round(N1/N1_N3)\n",
    "\n",
    "print('N1 = {0} ;\\t N2 = {1} ;\\t N3 = {2}'.format(N1, N2, N3))\n",
    "\n",
    "I2 = Idc*(N1/N2)*(1-D)\n",
    "I3 = Idc*(N1/N3)*(1-D)\n",
    "\n",
    "B = a*N1 + c/N1\n",
    "print('Corriente en los bobinados del transformador:\\n\\tI1 = {0}A ;\\t I2 = {1}A ;\\t I3 = {2}A'.format(Idc, round(I2, 3), round(I3, 3)))\n",
    "print('Corriente a las salidas de las flyback\\n\\tIo2 = {1}A ;\\t Io3 = {2}A'.format(Idc, round(I2, 3), round(I3, 3)))\n",
    "print('\\nB = {0}mH'.format(round(B*1e3, 3)))"
   ]
  },
  {
   "cell_type": "markdown",
   "metadata": {},
   "source": [
    "Inductancias de los bobinados"
   ]
  },
  {
   "cell_type": "code",
   "execution_count": 124,
   "metadata": {},
   "outputs": [
    {
     "name": "stdout",
     "output_type": "stream",
     "text": [
      "L2 = 4.0uH\tL3 = 36.0uH\n",
      "Lmag = L1 = 4.096mH\n",
      "Ld1 = 409.6uH\n"
     ]
    }
   ],
   "source": [
    "Lmag = AL*pow(N1, 2)\n",
    "L2 = AL*pow(N2, 2)\n",
    "L3 = AL*pow(N3, 2)\n",
    "\n",
    "print('L2 = {0}uH\\tL3 = {1}uH'.format(round(L2*1e6, 3), round(L3*1e6, 3)))\n",
    "print('Lmag = L1 = {0}mH\\nLd1 = {1}uH'.format(round(Lmag*1e3, 3), round(Lmag*0.1*1e6, 3)))"
   ]
  },
  {
   "cell_type": "markdown",
   "metadata": {},
   "source": [
    "Resistencias de los bobinados"
   ]
  },
  {
   "cell_type": "code",
   "execution_count": 125,
   "metadata": {},
   "outputs": [
    {
     "name": "stdout",
     "output_type": "stream",
     "text": [
      "Rcu1 = 0.03328 ;\t Rcu2 = 3.25e-05 ;\t Rcu3 = 0.00029249999999999995\n"
     ]
    }
   ],
   "source": [
    "AR=32.5e-6\n",
    "\n",
    "Rcu1=AR*pow(N1, 2)\n",
    "Rcu2=AR*pow(N2, 2)\n",
    "Rcu3=AR*pow(N3, 2)\n",
    "\n",
    "print('Rcu1 = {0} ;\\t Rcu2 = {1} ;\\t Rcu3 = {2}'.format(Rcu1, Rcu2, Rcu3))"
   ]
  },
  {
   "cell_type": "markdown",
   "metadata": {},
   "source": [
    "Efecto skin y seccion de cable"
   ]
  },
  {
   "cell_type": "code",
   "execution_count": 126,
   "metadata": {},
   "outputs": [
    {
     "name": "stdout",
     "output_type": "stream",
     "text": [
      "Sección máxima del cable por Skin = 0.20871032557111302 --> Diámetro máximo = 0.5154980503471294\n",
      "n1 = 0.6366197723675813 ;\t n2 = 4.323817555998595 ;\t n3 = 1.441272518666198\n"
     ]
    }
   ],
   "source": [
    "Aw=120 # en mm^2\n",
    "Kw=0.5\n",
    "\n",
    "skineff=66/cmath.sqrt(Fs).real\n",
    "\n",
    "Scu=(Aw*Kw)/N1\n",
    "\n",
    "if(skineff<Scu):\n",
    "    print('Sección máxima del cable por Skin = {0} --> Diámetro máximo = {1}'.format(skineff, 2*cmath.sqrt(skineff/cmath.pi).real))\n",
    "else:\n",
    "    print('Sección máxima del cable por tamaño de ventana= {0} --> Diámetro máximo = {1}'.format(Scu, 2*cmath.sqrt(Scu/cmath.pi).real))\n",
    "\n",
    "J=4\n",
    "s1=pow(0.2/2, 2)*cmath.pi\n",
    "n1=Idc/(J*s1)\n",
    "\n",
    "\n",
    "s2=pow(0.35/2, 2)*cmath.pi\n",
    "n2=I2/(J*s2)\n",
    "\n",
    "\n",
    "s3=pow(0.35/2, 2)*cmath.pi\n",
    "n3=I3/(J*s3)\n",
    "\n",
    "\n",
    "print('n1 = {0} ;\\t n2 = {1} ;\\t n3 = {2}'.format(n1, n2, n3))"
   ]
  }
 ],
 "metadata": {
  "kernelspec": {
   "display_name": "Python 3.11.3 64-bit",
   "language": "python",
   "name": "python3"
  },
  "language_info": {
   "codemirror_mode": {
    "name": "ipython",
    "version": 3
   },
   "file_extension": ".py",
   "mimetype": "text/x-python",
   "name": "python",
   "nbconvert_exporter": "python",
   "pygments_lexer": "ipython3",
   "version": "3.11.3"
  },
  "orig_nbformat": 4,
  "vscode": {
   "interpreter": {
    "hash": "80873284e2b38068cf6ad591a8de2f10efc2539d1e332e7ac41fa26508a20587"
   }
  }
 },
 "nbformat": 4,
 "nbformat_minor": 2
}
